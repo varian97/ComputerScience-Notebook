{
 "cells": [
  {
   "cell_type": "markdown",
   "metadata": {},
   "source": [
    "# Queue Reference Implementations"
   ]
  },
  {
   "cell_type": "markdown",
   "metadata": {},
   "source": [
    "### Operations:\n",
    "\n",
    "**enqueue(val):**\n",
    "* Add val to the queue\n",
    "\n",
    "\n",
    "**dequeue():**\n",
    "* Remove the first element of the queue and return it\n",
    "* queue may be empty, return None\n",
    "\n",
    "\n",
    "**is_empty():**\n",
    "* Return whether queue is empty or not"
   ]
  },
  {
   "cell_type": "code",
   "execution_count": 1,
   "metadata": {},
   "outputs": [],
   "source": [
    "class Node(object):\n",
    "    def __init__(self, data, next=None):\n",
    "        self.data = data\n",
    "        self.next = next"
   ]
  },
  {
   "cell_type": "code",
   "execution_count": 2,
   "metadata": {},
   "outputs": [],
   "source": [
    "class Queue(object):\n",
    "    \n",
    "    def __init__(self, head=None):\n",
    "        self.head = head\n",
    "        self.tail = head\n",
    "    \n",
    "    def enqueue(self, val):\n",
    "        if self.head is None:\n",
    "            self.head = Node(val)\n",
    "            self.tail = self.head\n",
    "        else:\n",
    "            temp = Node(val)\n",
    "            self.tail.next = temp\n",
    "            self.tail = temp\n",
    "    \n",
    "    def dequeue(self):\n",
    "        if self.head is None:\n",
    "            return None\n",
    "        data = self.head.data\n",
    "        self.head = self.head.next\n",
    "        if self.head is None:\n",
    "            self.tail = None\n",
    "        return data\n",
    "    \n",
    "    def is_empty(self):\n",
    "        return self.head is None"
   ]
  },
  {
   "cell_type": "code",
   "execution_count": 3,
   "metadata": {},
   "outputs": [
    {
     "name": "stdout",
     "output_type": "stream",
     "text": [
      "is the queue empty?  True\n",
      "is the queue empty?  False\n",
      "Head at: 1 and Tail at: 3\n",
      "1\n",
      "2\n",
      "3\n",
      "is the queue empty?  True\n"
     ]
    }
   ],
   "source": [
    "q = Queue()\n",
    "print(\"is the queue empty? \", q.is_empty())\n",
    "q.enqueue(1)\n",
    "q.enqueue(2)\n",
    "q.enqueue(3)\n",
    "print(\"is the queue empty? \", q.is_empty())\n",
    "print(\"Head at: {} and Tail at: {}\".format(q.head.data, q.tail.data))\n",
    "while not q.is_empty():\n",
    "    dequeued = q.dequeue()\n",
    "    print(dequeued)\n",
    "print(\"is the queue empty? \", q.is_empty())"
   ]
  },
  {
   "cell_type": "code",
   "execution_count": null,
   "metadata": {},
   "outputs": [],
   "source": []
  }
 ],
 "metadata": {
  "kernelspec": {
   "display_name": "Python 3",
   "language": "python",
   "name": "python3"
  },
  "language_info": {
   "codemirror_mode": {
    "name": "ipython",
    "version": 3
   },
   "file_extension": ".py",
   "mimetype": "text/x-python",
   "name": "python",
   "nbconvert_exporter": "python",
   "pygments_lexer": "ipython3",
   "version": "3.6.4"
  }
 },
 "nbformat": 4,
 "nbformat_minor": 2
}
