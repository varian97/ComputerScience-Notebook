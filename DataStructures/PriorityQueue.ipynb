{
 "cells": [
  {
   "cell_type": "markdown",
   "metadata": {},
   "source": [
    "# Priority Queue Reference Implementation"
   ]
  },
  {
   "cell_type": "markdown",
   "metadata": {},
   "source": [
    "### Operations:\n",
    "For the sake of simplicity, all inputs assumed to be valid\n",
    "\n",
    "\n",
    "**enqueue(data, priority)**\n",
    "* Insert data to the priority queue\n",
    "\n",
    "\n",
    "**dequeue()**\n",
    "* Remove one node from the priority queue with highest priority\n",
    "* If queue is empty, return None"
   ]
  },
  {
   "cell_type": "code",
   "execution_count": 1,
   "metadata": {},
   "outputs": [],
   "source": [
    "class Node(object):\n",
    "    def __init__(self, data, priority, next=None):\n",
    "        self.data = data\n",
    "        self.priority = priority\n",
    "        self.next = next"
   ]
  },
  {
   "cell_type": "code",
   "execution_count": 2,
   "metadata": {},
   "outputs": [],
   "source": [
    "class PriorityQueue(object):\n",
    "    def __init__(self):\n",
    "        self.head = None\n",
    "    \n",
    "    def enqueue(self, data, priority):\n",
    "        if self.head is None:\n",
    "            self.head = Node(data, priority)\n",
    "            return\n",
    "        if self.head.next is None:\n",
    "            if self.head.priority < priority:\n",
    "                self.head = Node(data, priority, self.head)\n",
    "            else:\n",
    "                self.head.next = Node(data, priority)\n",
    "        else:\n",
    "            p = self.head\n",
    "            pprev = None\n",
    "            while p is not None: \n",
    "                if p.priority < priority:\n",
    "                    if p is self.head:\n",
    "                        temp = Node(data, priority, self.head)\n",
    "                        self.head = temp\n",
    "                    else:\n",
    "                        temp = Node(data, priority, p)\n",
    "                        pprev.next = temp\n",
    "                    return\n",
    "                pprev = p\n",
    "                p = p.next\n",
    "            pprev.next = Node(data, priority)\n",
    "    \n",
    "    def dequeue(self):\n",
    "        if self.head is None:\n",
    "            return None\n",
    "        node = self.head\n",
    "        self.head = self.head.next\n",
    "        return node"
   ]
  },
  {
   "cell_type": "code",
   "execution_count": 3,
   "metadata": {},
   "outputs": [
    {
     "name": "stdout",
     "output_type": "stream",
     "text": [
      "2  with priority of 30\n",
      "1  with priority of 20\n",
      "3  with priority of 15\n",
      "Dequeue  2  with priority of 30\n",
      "1  with priority of 20\n",
      "3  with priority of 15\n"
     ]
    }
   ],
   "source": [
    "p = PriorityQueue()\n",
    "p.enqueue(1, 20)\n",
    "p.enqueue(2, 30)\n",
    "p.enqueue(3, 15)\n",
    "x = p.head\n",
    "while x is not None:\n",
    "    print(x.data, \" with priority of\", x.priority)\n",
    "    x = x.next\n",
    "\n",
    "node = p.dequeue()\n",
    "print(\"Dequeue \", node.data, \" with priority of\", node.priority)\n",
    "\n",
    "x = p.head\n",
    "while x is not None:\n",
    "    print(x.data, \" with priority of\", x.priority)\n",
    "    x = x.next"
   ]
  },
  {
   "cell_type": "code",
   "execution_count": null,
   "metadata": {},
   "outputs": [],
   "source": []
  }
 ],
 "metadata": {
  "kernelspec": {
   "display_name": "Python 3",
   "language": "python",
   "name": "python3"
  },
  "language_info": {
   "codemirror_mode": {
    "name": "ipython",
    "version": 3
   },
   "file_extension": ".py",
   "mimetype": "text/x-python",
   "name": "python",
   "nbconvert_exporter": "python",
   "pygments_lexer": "ipython3",
   "version": "3.6.4"
  }
 },
 "nbformat": 4,
 "nbformat_minor": 2
}
