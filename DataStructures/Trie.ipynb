{
 "cells": [
  {
   "cell_type": "markdown",
   "metadata": {},
   "source": [
    "# Trie Reference Implementation"
   ]
  },
  {
   "cell_type": "markdown",
   "metadata": {},
   "source": [
    "### Trie of Words, Operations:\n",
    "\n",
    "\n",
    "**insert(word)**\n",
    "* Insert word to the trie\n",
    "* Word can be None, raise ValueError\n",
    "\n",
    "\n",
    "**find(word)**\n",
    "* Find a word in trie, return its leaf node\n",
    "* Return None if word doesn't exist\n",
    "* Word can be None, raise ValueError\n",
    "\n",
    "\n",
    "**remove(word)**\n",
    "* Remove a word from trie\n",
    "* Return None if word doesn't exist\n",
    "* Word can be None, raise ValueError\n",
    "\n",
    "\n",
    "**list_words()**\n",
    "* List all the words in the trie"
   ]
  },
  {
   "cell_type": "code",
   "execution_count": 2,
   "metadata": {},
   "outputs": [],
   "source": [
    "class Node(object):\n",
    "    def __init__(self, data, parent=None, terminates=False):\n",
    "        self.data = data\n",
    "        self.parent = parent\n",
    "        self.terminates = terminates\n",
    "        self.children = {}"
   ]
  },
  {
   "cell_type": "code",
   "execution_count": 7,
   "metadata": {},
   "outputs": [],
   "source": [
    "class Trie(object):\n",
    "    def __init__(self):\n",
    "        self.root = Node('')\n",
    "    \n",
    "    def insert(self, word):\n",
    "        if word is None:\n",
    "            raise ValueError(\"Word cannot be empty!\")\n",
    "        p = self.root\n",
    "        for c in word:\n",
    "            if c not in p.children:\n",
    "                p.children[c] = Node(c, parent=p)\n",
    "            p = p.children[c]\n",
    "        p.terminates = True\n",
    "    \n",
    "    def find(self, word):\n",
    "        if word is None:\n",
    "            raise ValueError(\"Word cannot be empty!\")\n",
    "        p = self.root\n",
    "        for c in word:\n",
    "            if c not in p.children:\n",
    "                return None\n",
    "            p = p.children[c]\n",
    "        return p if p.terminates else None\n",
    "    \n",
    "    def remove(self, word):\n",
    "        if word is None:\n",
    "            raise ValueError(\"Word cannot be empty!\")\n",
    "        leaf = self.find(word)\n",
    "        if leaf is None:\n",
    "            return\n",
    "        parent = leaf.parent\n",
    "        leaf.terminates = False\n",
    "        while parent is not None:\n",
    "            if leaf.terminates or leaf.children:\n",
    "                return\n",
    "            parent.children.pop(leaf.data)\n",
    "            leaf = parent\n",
    "            parent = parent.parent\n",
    "    \n",
    "    def list_words(self):\n",
    "        result = []\n",
    "        self._list_words(self.root, word='', result=result)\n",
    "        return result\n",
    "    \n",
    "    def _list_words(self, root, word, result):\n",
    "        if root is None:\n",
    "            return\n",
    "        for key, value in root.children.items():\n",
    "            if value.terminates:\n",
    "                result.append(word + key)\n",
    "            self._list_words(root.children[key], word+key, result)"
   ]
  },
  {
   "cell_type": "code",
   "execution_count": 8,
   "metadata": {},
   "outputs": [
    {
     "name": "stdout",
     "output_type": "stream",
     "text": [
      "['be', 'bee', 'a', 'me', 'mens']\n",
      "bee is in the trie\n",
      "['bee', 'me', 'mens']\n"
     ]
    }
   ],
   "source": [
    "t = Trie()\n",
    "words = ['be', 'a', 'me', 'mens', 'bee']\n",
    "for word in words:\n",
    "    t.insert(word)\n",
    "print(t.list_words())\n",
    "temp = t.find('bee')\n",
    "if temp is not None:\n",
    "    print(\"bee is in the trie\")\n",
    "temp = t.find('men')\n",
    "if temp is not None:\n",
    "    print(\"men is in the trie\")\n",
    "t.remove('a')\n",
    "t.remove('be')\n",
    "print(t.list_words())"
   ]
  },
  {
   "cell_type": "code",
   "execution_count": null,
   "metadata": {},
   "outputs": [],
   "source": []
  }
 ],
 "metadata": {
  "kernelspec": {
   "display_name": "Python 3",
   "language": "python",
   "name": "python3"
  },
  "language_info": {
   "codemirror_mode": {
    "name": "ipython",
    "version": 3
   },
   "file_extension": ".py",
   "mimetype": "text/x-python",
   "name": "python",
   "nbconvert_exporter": "python",
   "pygments_lexer": "ipython3",
   "version": "3.6.4"
  }
 },
 "nbformat": 4,
 "nbformat_minor": 2
}
