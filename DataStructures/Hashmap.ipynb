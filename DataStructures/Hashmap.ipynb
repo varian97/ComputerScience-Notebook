{
 "cells": [
  {
   "cell_type": "markdown",
   "metadata": {},
   "source": [
    "# Hashmap Reference Implementation"
   ]
  },
  {
   "cell_type": "markdown",
   "metadata": {},
   "source": [
    "### Operations:\n",
    "For simplicity, key is always integer and input is always valid.\n",
    "\n",
    "\n",
    "**put(key, val)**\n",
    "* Add new key-val pairs to the hashmap\n",
    "\n",
    "\n",
    "**get(key)**\n",
    "* Return value for specified key\n",
    "* Return KeyError if key is not found\n",
    "\n",
    "\n",
    "**remove(key)**\n",
    "* Remove key-value pairs from hashmap\n",
    "* Return KeyError if key is not found"
   ]
  },
  {
   "cell_type": "code",
   "execution_count": 1,
   "metadata": {},
   "outputs": [],
   "source": [
    "class Item(object):\n",
    "    def __init__(self, key, val):\n",
    "        self.key = key\n",
    "        self.value = val"
   ]
  },
  {
   "cell_type": "code",
   "execution_count": 6,
   "metadata": {},
   "outputs": [],
   "source": [
    "class HashMap(object):\n",
    "    def __init__(self, size=10):\n",
    "        self.size = size\n",
    "        self.table = [[] for x in range(size)]\n",
    "    \n",
    "    def hash_function(self, key):\n",
    "        return key % self.size\n",
    "    \n",
    "    def put(self, key, val):\n",
    "        _hash = self.hash_function(key)\n",
    "        for item in self.table[_hash]:\n",
    "            if item.key == key:\n",
    "                item.value = val\n",
    "                return\n",
    "        self.table[_hash].append(Item(key, val))\n",
    "        \n",
    "    def get(self, key):\n",
    "        _hash = self.hash_function(key)\n",
    "        for item in self.table[_hash]:\n",
    "            if item.key == key:\n",
    "                return item.value\n",
    "        raise KeyError(\"Key not found!\")\n",
    "    \n",
    "    def remove(self, key):\n",
    "        _hash = self.hash_function(key)\n",
    "        for i, item in enumerate(self.table[_hash]):\n",
    "            if item.key == key:\n",
    "                self.table[_hash].pop(i)\n",
    "                return\n",
    "        raise KeyError(\"Key not found!\")"
   ]
  },
  {
   "cell_type": "code",
   "execution_count": 10,
   "metadata": {},
   "outputs": [
    {
     "name": "stdout",
     "output_type": "stream",
     "text": [
      "a\n",
      "b\n",
      "c\n"
     ]
    }
   ],
   "source": [
    "h = HashMap(size=10)\n",
    "h.put(1, 'a')\n",
    "h.put(2, 'b')\n",
    "h.put(3, 'c')\n",
    "print(h.get(1))\n",
    "print(h.get(2))\n",
    "print(h.get(3))"
   ]
  },
  {
   "cell_type": "code",
   "execution_count": null,
   "metadata": {},
   "outputs": [],
   "source": []
  }
 ],
 "metadata": {
  "kernelspec": {
   "display_name": "Python 3",
   "language": "python",
   "name": "python3"
  },
  "language_info": {
   "codemirror_mode": {
    "name": "ipython",
    "version": 3
   },
   "file_extension": ".py",
   "mimetype": "text/x-python",
   "name": "python",
   "nbconvert_exporter": "python",
   "pygments_lexer": "ipython3",
   "version": "3.6.4"
  }
 },
 "nbformat": 4,
 "nbformat_minor": 2
}
