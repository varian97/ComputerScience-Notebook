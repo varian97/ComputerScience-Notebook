{
 "cells": [
  {
   "cell_type": "markdown",
   "metadata": {},
   "source": [
    "# Graph Reference Implementation"
   ]
  },
  {
   "cell_type": "markdown",
   "metadata": {},
   "source": [
    "## Node"
   ]
  },
  {
   "cell_type": "code",
   "execution_count": 1,
   "metadata": {},
   "outputs": [],
   "source": [
    "class Node(object):\n",
    "    def __init__(self, key):\n",
    "        self.key = key\n",
    "        self.adj_vertices = {}\n",
    "        self.adj_weights = {}\n",
    "        \n",
    "    def __str__(self):\n",
    "        return str(self.key)\n",
    "    \n",
    "    def add_neighbor(self, other, weight):\n",
    "        if other is None or weight is None:\n",
    "            raise TypeError(\"Vertex or Weight cannot be null!\")\n",
    "        self.adj_vertices[other.key] = other\n",
    "        self.adj_weights[other.key] = weight\n",
    "        \n",
    "    def remove_neighbor(self, other):\n",
    "        if other is None:\n",
    "            raise TypeError(\"Vertex to be removed cannot be null!\")\n",
    "        if other.key not in self.adj_vertices.keys():\n",
    "            raise KeyError(\"Neighbor not found\")\n",
    "        self.adj_vertices.pop(other.key)\n",
    "        self.adj_weights.pop(other.key)     "
   ]
  },
  {
   "cell_type": "code",
   "execution_count": 3,
   "metadata": {},
   "outputs": [
    {
     "name": "stdout",
     "output_type": "stream",
     "text": [
      "Adj. Nodes: \n",
      "10 with the weight of  1\n",
      "20 with the weight of  2\n",
      "Removing one node:\n",
      "Adj. Nodes: \n",
      "20 with the weight of  2\n"
     ]
    }
   ],
   "source": [
    "n = Node(5)\n",
    "m = Node(10)\n",
    "o = Node(20)\n",
    "n.add_neighbor(m, 1)\n",
    "n.add_neighbor(o, 2)\n",
    "print(\"Adj. Nodes: \")\n",
    "for k in n.adj_vertices.keys():\n",
    "    print(k, \"with the weight of \", n.adj_weights[k])\n",
    "print(\"Removing one node:\")\n",
    "n.remove_neighbor(m)\n",
    "print(\"Adj. Nodes: \")\n",
    "for k in n.adj_vertices.keys():\n",
    "    print(k, \"with the weight of \", n.adj_weights[k])"
   ]
  },
  {
   "cell_type": "markdown",
   "metadata": {},
   "source": [
    "## Graph"
   ]
  },
  {
   "cell_type": "code",
   "execution_count": 5,
   "metadata": {},
   "outputs": [],
   "source": [
    "class Graph(object):\n",
    "    def __init__(self):\n",
    "        self.nodes = {}\n",
    "    \n",
    "    def add_node(self, key):\n",
    "        if key is None:\n",
    "            raise TypeError(\"Node must have a specified key!\")\n",
    "        if key not in self.nodes:\n",
    "            self.nodes[key] = Node(key)\n",
    "        return self.nodes[key]\n",
    "    \n",
    "    def add_edge(self, src_key, dest_key, weight=1):\n",
    "        if src_key is None or dest_key is None:\n",
    "            raise KeyError(\"Please specify the source key and the destination key!\")\n",
    "        if src_key not in self.nodes.keys():\n",
    "            raise KeyError(\"Source invalid\")\n",
    "        if dest_key not in self.nodes.keys():\n",
    "            raise KeyError(\"Destination invalid\")\n",
    "        self.nodes[src_key].add_neighbor(self.nodes[dest_key], weight)\n",
    "    \n",
    "    def add_undirected_edge(self, src_key, dest_key, weight=1):\n",
    "        if src_key is None or dest_key is None:\n",
    "            raise KeyError(\"Please specify the source key and the destination key!\")\n",
    "        self.add_edge(src_key, dest_key, weight)\n",
    "        self.add_edge(dest_key, src_key, weight)"
   ]
  },
  {
   "cell_type": "code",
   "execution_count": 6,
   "metadata": {},
   "outputs": [
    {
     "name": "stdout",
     "output_type": "stream",
     "text": [
      "dict_keys([0, 1, 2, 3])\n",
      "Node:  0\n",
      "Connected to 1 with the weight of 5\n",
      "Connected to 2 with the weight of 3\n",
      "Connected to 3 with the weight of 10\n",
      "Node:  1\n",
      "Connected to 3 with the weight of 6\n",
      "Node:  2\n",
      "Connected to 3 with the weight of 4\n",
      "Node:  3\n",
      "Connected to 1 with the weight of 6\n"
     ]
    }
   ],
   "source": [
    "g = Graph()\n",
    "for i in range(4):\n",
    "    g.add_node(i)\n",
    "print(g.nodes.keys())\n",
    "g.add_edge(0, 1, 5)\n",
    "g.add_edge(0, 2, 3)\n",
    "g.add_edge(0, 3, 10)\n",
    "g.add_edge(2, 3, 4)\n",
    "g.add_undirected_edge(1, 3, 6)\n",
    "\n",
    "for k, v in g.nodes.items():\n",
    "    print(\"Node: \", k)\n",
    "    for neighbor in v.adj_vertices.keys():\n",
    "        print(\"Connected to {} with the weight of {}\".format(neighbor, v.adj_weights[neighbor]))"
   ]
  },
  {
   "cell_type": "code",
   "execution_count": null,
   "metadata": {},
   "outputs": [],
   "source": []
  }
 ],
 "metadata": {
  "kernelspec": {
   "display_name": "Python 3",
   "language": "python",
   "name": "python3"
  },
  "language_info": {
   "codemirror_mode": {
    "name": "ipython",
    "version": 3
   },
   "file_extension": ".py",
   "mimetype": "text/x-python",
   "name": "python",
   "nbconvert_exporter": "python",
   "pygments_lexer": "ipython3",
   "version": "3.6.4"
  }
 },
 "nbformat": 4,
 "nbformat_minor": 2
}
