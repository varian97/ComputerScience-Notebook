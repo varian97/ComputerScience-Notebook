{
 "cells": [
  {
   "cell_type": "markdown",
   "metadata": {},
   "source": [
    "# Stack Reference Implementations"
   ]
  },
  {
   "cell_type": "markdown",
   "metadata": {},
   "source": [
    "### Operations:\n",
    "\n",
    "**push(val)**\n",
    "* Push val into stack\n",
    "* Stack may be empty\n",
    "\n",
    "\n",
    "**pop()**\n",
    "* Pop the top of the stack and return that value\n",
    "* Stack may be empty -> return None\n",
    "\n",
    "\n",
    "**top_value()**\n",
    "* Returns the top stack without popping it\n",
    "* Stack may be empty -> return None\n",
    "\n",
    "**is_empty()**\n",
    "* Returns whether the stack is empty or not"
   ]
  },
  {
   "cell_type": "code",
   "execution_count": 1,
   "metadata": {},
   "outputs": [],
   "source": [
    "class Node(object):\n",
    "    \n",
    "    def __init__(self, data, next=None):\n",
    "        self.data = data\n",
    "        self.next = next"
   ]
  },
  {
   "cell_type": "code",
   "execution_count": 2,
   "metadata": {},
   "outputs": [],
   "source": [
    "class Stack(object):\n",
    "    \n",
    "    def __init__(self, top=None):\n",
    "        self.top = top\n",
    "    \n",
    "    \n",
    "    def push(self, val):\n",
    "        temp = Node(val, self.top)\n",
    "        self.top = temp\n",
    "        \n",
    "    \n",
    "    def pop(self):\n",
    "        if self.top is None:\n",
    "            return None\n",
    "        p = self.top.data\n",
    "        self.top = self.top.next\n",
    "        return p\n",
    "    \n",
    "    \n",
    "    def top_value(self):\n",
    "        if self.top is None:\n",
    "            return None\n",
    "        return self.top.data\n",
    "    \n",
    "    \n",
    "    def is_empty(self):\n",
    "        return self.top is None"
   ]
  },
  {
   "cell_type": "code",
   "execution_count": 4,
   "metadata": {},
   "outputs": [
    {
     "name": "stdout",
     "output_type": "stream",
     "text": [
      "is Stack Empty?  True\n",
      "is Stack Empty?  False\n",
      "3\n",
      "2\n",
      "1\n",
      "is Stack Empty?  True\n"
     ]
    }
   ],
   "source": [
    "s = Stack()\n",
    "print(\"is Stack Empty? \", s.is_empty())\n",
    "s.push(1)\n",
    "s.push(2)\n",
    "s.push(3)\n",
    "print(\"is Stack Empty? \", s.is_empty())\n",
    "while(not s.is_empty()):\n",
    "    popped = s.pop()\n",
    "    print(popped)\n",
    "print(\"is Stack Empty? \", s.is_empty())"
   ]
  },
  {
   "cell_type": "code",
   "execution_count": null,
   "metadata": {},
   "outputs": [],
   "source": []
  }
 ],
 "metadata": {
  "kernelspec": {
   "display_name": "Python 3",
   "language": "python",
   "name": "python3"
  },
  "language_info": {
   "codemirror_mode": {
    "name": "ipython",
    "version": 3
   },
   "file_extension": ".py",
   "mimetype": "text/x-python",
   "name": "python",
   "nbconvert_exporter": "python",
   "pygments_lexer": "ipython3",
   "version": "3.6.4"
  }
 },
 "nbformat": 4,
 "nbformat_minor": 2
}
