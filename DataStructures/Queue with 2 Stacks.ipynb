{
 "cells": [
  {
   "cell_type": "markdown",
   "metadata": {},
   "source": [
    "# Queue using 2 Stacks Reference Implementations"
   ]
  },
  {
   "cell_type": "markdown",
   "metadata": {},
   "source": [
    "### Operations:\n",
    "\n",
    "**enqueue(val):**\n",
    "* Add val to the queue\n",
    "\n",
    "\n",
    "**dequeue():**\n",
    "* Remove the first element of the queue and return it\n",
    "* queue may be empty, return None\n",
    "\n",
    "\n",
    "**is_empty():**\n",
    "* Return whether queue is empty or not"
   ]
  },
  {
   "cell_type": "markdown",
   "metadata": {},
   "source": [
    "## Code for the Stack Data Structure"
   ]
  },
  {
   "cell_type": "code",
   "execution_count": 2,
   "metadata": {},
   "outputs": [],
   "source": [
    "class Node(object):\n",
    "    \n",
    "    def __init__(self, data, next=None):\n",
    "        self.data = data\n",
    "        self.next = next\n",
    "        \n",
    "        \n",
    "class Stack(object):\n",
    "    \n",
    "    def __init__(self, top=None):\n",
    "        self.top = top\n",
    "    \n",
    "    \n",
    "    def push(self, val):\n",
    "        temp = Node(val, self.top)\n",
    "        self.top = temp\n",
    "        \n",
    "    \n",
    "    def pop(self):\n",
    "        if self.top is None:\n",
    "            return None\n",
    "        p = self.top.data\n",
    "        self.top = self.top.next\n",
    "        return p\n",
    "    \n",
    "    \n",
    "    def top_value(self):\n",
    "        if self.top is None:\n",
    "            return None\n",
    "        return self.top.data\n",
    "    \n",
    "    \n",
    "    def is_empty(self):\n",
    "        return self.top is None"
   ]
  },
  {
   "cell_type": "markdown",
   "metadata": {},
   "source": [
    "## Queue using 2 Stacks Implementation"
   ]
  },
  {
   "cell_type": "code",
   "execution_count": 3,
   "metadata": {},
   "outputs": [],
   "source": [
    "class Queue(object):\n",
    "    \n",
    "    def __init__(self):\n",
    "        self.s1 = Stack()\n",
    "        self.s2 = Stack()\n",
    "        \n",
    "    def enqueue(self, val):\n",
    "        self.s1.push(val)\n",
    "        \n",
    "    def dequeue(self):\n",
    "        if self.s1.is_empty() and self.s2.is_empty():\n",
    "            return None\n",
    "        \n",
    "        if self.s2.is_empty():\n",
    "            while not self.s1.is_empty():\n",
    "                temp = self.s1.pop()\n",
    "                self.s2.push(temp)\n",
    "        return self.s2.pop()\n",
    "    \n",
    "    def is_empty(self):\n",
    "        return self.s1.is_empty() and self.s2.is_empty()"
   ]
  },
  {
   "cell_type": "code",
   "execution_count": 4,
   "metadata": {},
   "outputs": [
    {
     "name": "stdout",
     "output_type": "stream",
     "text": [
      "is the queue empty?  True\n",
      "is the queue empty?  False\n",
      "Dequeued:  1\n",
      "Dequeued:  2\n",
      "Dequeued:  3\n",
      "is the queue empty?  True\n"
     ]
    }
   ],
   "source": [
    "q = Queue()\n",
    "print(\"is the queue empty? \", q.is_empty())\n",
    "q.enqueue(1)\n",
    "q.enqueue(2)\n",
    "q.enqueue(3)\n",
    "print(\"is the queue empty? \", q.is_empty())\n",
    "while not q.is_empty():\n",
    "    popped = q.dequeue()\n",
    "    print(\"Dequeued: \", popped)\n",
    "print(\"is the queue empty? \", q.is_empty())"
   ]
  },
  {
   "cell_type": "code",
   "execution_count": null,
   "metadata": {},
   "outputs": [],
   "source": []
  }
 ],
 "metadata": {
  "kernelspec": {
   "display_name": "Python 3",
   "language": "python",
   "name": "python3"
  },
  "language_info": {
   "codemirror_mode": {
    "name": "ipython",
    "version": 3
   },
   "file_extension": ".py",
   "mimetype": "text/x-python",
   "name": "python",
   "nbconvert_exporter": "python",
   "pygments_lexer": "ipython3",
   "version": "3.6.4"
  }
 },
 "nbformat": 4,
 "nbformat_minor": 2
}
