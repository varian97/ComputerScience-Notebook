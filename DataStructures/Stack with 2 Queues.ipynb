{
 "cells": [
  {
   "cell_type": "markdown",
   "metadata": {},
   "source": [
    "# Stack using 2 Queues Reference Implementations"
   ]
  },
  {
   "cell_type": "markdown",
   "metadata": {},
   "source": [
    "### Operations:\n",
    "\n",
    "**push(val)**\n",
    "* Push val into stack\n",
    "* Stack may be empty\n",
    "\n",
    "\n",
    "**pop()**\n",
    "* Pop the top of the stack and return that value\n",
    "* Stack may be empty -> return None\n",
    "\n",
    "\n",
    "**top_value()**\n",
    "* Returns the top stack without popping it\n",
    "* Stack may be empty -> return None\n",
    "\n",
    "**is_empty()**\n",
    "* Returns whether the stack is empty or not"
   ]
  },
  {
   "cell_type": "markdown",
   "metadata": {},
   "source": [
    "## Code for the Queue Data Structures"
   ]
  },
  {
   "cell_type": "code",
   "execution_count": 1,
   "metadata": {},
   "outputs": [],
   "source": [
    "class Node(object):\n",
    "    def __init__(self, data, next=None):\n",
    "        self.data = data\n",
    "        self.next = next\n",
    "        \n",
    "class Queue(object):\n",
    "    \n",
    "    def __init__(self, head=None):\n",
    "        self.head = head\n",
    "        self.tail = head\n",
    "    \n",
    "    def enqueue(self, val):\n",
    "        if self.head is None:\n",
    "            self.head = Node(val)\n",
    "            self.tail = self.head\n",
    "        else:\n",
    "            temp = Node(val)\n",
    "            self.tail.next = temp\n",
    "            self.tail = temp\n",
    "    \n",
    "    def dequeue(self):\n",
    "        if self.head is None:\n",
    "            return None\n",
    "        data = self.head.data\n",
    "        self.head = self.head.next\n",
    "        if self.head is None:\n",
    "            self.tail = None\n",
    "        return data\n",
    "    \n",
    "    def is_empty(self):\n",
    "        return self.head is None"
   ]
  },
  {
   "cell_type": "markdown",
   "metadata": {},
   "source": [
    "## Stack using 2 Queue Implementations"
   ]
  },
  {
   "cell_type": "code",
   "execution_count": 3,
   "metadata": {},
   "outputs": [],
   "source": [
    "class Stack(object):\n",
    "\n",
    "    def __init__(self):\n",
    "        self.q1 = Queue()\n",
    "        self.q2 = Queue()\n",
    "        self.current_queue = self.q1\n",
    "        self.side_queue = self.q2\n",
    "    \n",
    "    def push(self, val):\n",
    "        self.current_queue.enqueue(val)\n",
    "    \n",
    "    def pop(self):\n",
    "        temp = None\n",
    "        while not self.current_queue.is_empty():\n",
    "            temp = self.current_queue.dequeue()\n",
    "            if not self.current_queue.is_empty():\n",
    "                self.side_queue.enqueue(temp)\n",
    "        self.side_queue, self.current_queue = self.current_queue, self.side_queue\n",
    "        return temp\n",
    "    \n",
    "    def top_value(self):\n",
    "        return self.current_queue.tail.data\n",
    "    \n",
    "    def is_empty(self):\n",
    "        return self.current_queue.is_empty()"
   ]
  },
  {
   "cell_type": "code",
   "execution_count": 5,
   "metadata": {},
   "outputs": [
    {
     "name": "stdout",
     "output_type": "stream",
     "text": [
      "is the stack empty?  True\n",
      "The top value is  3\n",
      "is the stack empty?  False\n",
      "Popped:  3\n",
      "Popped:  2\n",
      "Popped:  1\n",
      "is the stack empty?  True\n"
     ]
    }
   ],
   "source": [
    "s = Stack()\n",
    "print(\"is the stack empty? \", s.is_empty())\n",
    "s.push(1)\n",
    "s.push(2)\n",
    "s.push(3)\n",
    "print(\"The top value is \", s.top_value())\n",
    "print(\"is the stack empty? \", s.is_empty())\n",
    "while not s.is_empty():\n",
    "    popped = s.pop()\n",
    "    print(\"Popped: \", popped)\n",
    "print(\"is the stack empty? \", s.is_empty())"
   ]
  },
  {
   "cell_type": "code",
   "execution_count": null,
   "metadata": {},
   "outputs": [],
   "source": []
  }
 ],
 "metadata": {
  "kernelspec": {
   "display_name": "Python 3",
   "language": "python",
   "name": "python3"
  },
  "language_info": {
   "codemirror_mode": {
    "name": "ipython",
    "version": 3
   },
   "file_extension": ".py",
   "mimetype": "text/x-python",
   "name": "python",
   "nbconvert_exporter": "python",
   "pygments_lexer": "ipython3",
   "version": "3.6.4"
  }
 },
 "nbformat": 4,
 "nbformat_minor": 2
}
