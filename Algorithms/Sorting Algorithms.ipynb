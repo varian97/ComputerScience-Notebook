{
 "cells": [
  {
   "cell_type": "markdown",
   "metadata": {},
   "source": [
    "# Various Sorting Algorithms"
   ]
  },
  {
   "cell_type": "markdown",
   "metadata": {},
   "source": [
    "# Selection Sort\n",
    "* Time : $O(n^2)$\n",
    "* Space: $O(1)$"
   ]
  },
  {
   "cell_type": "code",
   "execution_count": 1,
   "metadata": {},
   "outputs": [],
   "source": [
    "def selection_sort(a):\n",
    "    for i in range(0, len(a)-1):\n",
    "        imin = i\n",
    "        for j in range(imin+1, len(a)):\n",
    "            if a[j] < a[imin]:\n",
    "                imin = j\n",
    "        temp = a[imin]\n",
    "        a[imin] = a[i]\n",
    "        a[i] = temp\n",
    "    return a"
   ]
  },
  {
   "cell_type": "code",
   "execution_count": 2,
   "metadata": {},
   "outputs": [
    {
     "name": "stdout",
     "output_type": "stream",
     "text": [
      "[1]\n",
      "[1, 2, 4, 5, 6, 7]\n"
     ]
    }
   ],
   "source": [
    "a = [1]\n",
    "b = [1,4,5,2,7,6]\n",
    "print(selection_sort(a))\n",
    "print(selection_sort(b))"
   ]
  },
  {
   "cell_type": "markdown",
   "metadata": {},
   "source": [
    "# Insertion Sort\n",
    "  * Time : $O(n^2)$\n",
    "  * Space: $O(1)$"
   ]
  },
  {
   "cell_type": "code",
   "execution_count": 4,
   "metadata": {},
   "outputs": [],
   "source": [
    "def insertion_sort(a):\n",
    "    if len(a) < 2:\n",
    "        return a\n",
    "    for i in range(1, len(a)):\n",
    "        temp = a[i]\n",
    "        hole = i\n",
    "        while hole > 0 and a[hole-1] > temp:\n",
    "            a[hole] = a[hole-1]\n",
    "            hole -= 1\n",
    "        a[hole] = temp\n",
    "    return a"
   ]
  },
  {
   "cell_type": "code",
   "execution_count": 6,
   "metadata": {},
   "outputs": [
    {
     "name": "stdout",
     "output_type": "stream",
     "text": [
      "[1]\n",
      "[0, 1, 2, 4, 5, 6, 7]\n"
     ]
    }
   ],
   "source": [
    "a = [1]\n",
    "b = [1,0,4,5,2,7,6]\n",
    "print(insertion_sort(a))\n",
    "print(insertion_sort(b))"
   ]
  },
  {
   "cell_type": "markdown",
   "metadata": {},
   "source": [
    "# Quick Sort\n",
    "  * Time : $O(n log n)$\n",
    "  * Space: $O(log n)$"
   ]
  },
  {
   "cell_type": "code",
   "execution_count": 13,
   "metadata": {},
   "outputs": [],
   "source": [
    "def partition(a, start, end):\n",
    "    pindex = end\n",
    "    j = start\n",
    "    for i in range(start, end):\n",
    "        if a[i] < a[pindex]:\n",
    "            a[i], a[j] = a[j], a[i]\n",
    "            j += 1\n",
    "    a[pindex], a[j] = a[j], a[pindex]\n",
    "    return j\n",
    "\n",
    "def quick_sort(a, start, end):\n",
    "    if start < end:\n",
    "        pindex = partition(a, start, end)\n",
    "        quick_sort(a, start, pindex-1)\n",
    "        quick_sort(a, pindex+1, end)"
   ]
  },
  {
   "cell_type": "code",
   "execution_count": 14,
   "metadata": {},
   "outputs": [
    {
     "name": "stdout",
     "output_type": "stream",
     "text": [
      "[1]\n",
      "[0, 1, 2, 3, 4, 5, 6, 7]\n"
     ]
    }
   ],
   "source": [
    "a = [1]\n",
    "b = [1,4,5,2,7,0,6,3]\n",
    "quick_sort(a, 0, len(a)-1)\n",
    "quick_sort(b, 0, len(b)-1)\n",
    "print(a)\n",
    "print(b)"
   ]
  },
  {
   "cell_type": "markdown",
   "metadata": {},
   "source": [
    "# Merge Sort\n",
    "  * Time : $O(nlogn)$\n",
    "  * Space: $O(n)$"
   ]
  },
  {
   "cell_type": "code",
   "execution_count": 18,
   "metadata": {},
   "outputs": [],
   "source": [
    "def merge(a, b):\n",
    "    i = 0\n",
    "    j = 0\n",
    "    res = []\n",
    "    while i < len(a) and j < len(b):\n",
    "        if a[i] <= b[j]:\n",
    "            res.append(a[i])\n",
    "            i += 1\n",
    "        else:\n",
    "            res.append(b[j])\n",
    "            j += 1\n",
    "    if i < len(a):\n",
    "        res = res + a[i:]\n",
    "    if j < len(b):\n",
    "        res = res + b[j:]\n",
    "    return res\n",
    "\n",
    "def merge_sort(a):\n",
    "    if len(a) < 2:\n",
    "        return a\n",
    "    \n",
    "    mid = len(a) // 2\n",
    "    left = a[:mid]\n",
    "    right = a[mid:]\n",
    "    return merge(merge_sort(left), merge_sort(right))"
   ]
  },
  {
   "cell_type": "code",
   "execution_count": 19,
   "metadata": {},
   "outputs": [
    {
     "name": "stdout",
     "output_type": "stream",
     "text": [
      "[0, 1, 2, 3, 4, 5, 7]\n",
      "[0, 1, 2, 3, 4, 5, 6, 7]\n"
     ]
    }
   ],
   "source": [
    "a = [2,4,7,1,0,3,5]\n",
    "b = [5,2,4,1,7,6,0,3]\n",
    "print(merge_sort(a))\n",
    "print(merge_sort(b))"
   ]
  },
  {
   "cell_type": "code",
   "execution_count": null,
   "metadata": {},
   "outputs": [],
   "source": []
  }
 ],
 "metadata": {
  "kernelspec": {
   "display_name": "Python 3",
   "language": "python",
   "name": "python3"
  },
  "language_info": {
   "codemirror_mode": {
    "name": "ipython",
    "version": 3
   },
   "file_extension": ".py",
   "mimetype": "text/x-python",
   "name": "python",
   "nbconvert_exporter": "python",
   "pygments_lexer": "ipython3",
   "version": "3.6.4"
  }
 },
 "nbformat": 4,
 "nbformat_minor": 2
}
